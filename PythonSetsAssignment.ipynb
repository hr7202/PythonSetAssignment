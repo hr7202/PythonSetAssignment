{
 "cells": [
  {
   "cell_type": "code",
   "execution_count": 1,
   "id": "3ce0a42d-ca05-4f4b-8eca-2c2ff84b2b06",
   "metadata": {},
   "outputs": [],
   "source": [
    "#A set in python is a randomly ordered elements which are stored in a curly brackets.It is mutable. "
   ]
  },
  {
   "cell_type": "code",
   "execution_count": 2,
   "id": "4d084f97-26a6-46df-8d8e-7d2cb4771ac3",
   "metadata": {},
   "outputs": [],
   "source": [
    "#This is the answer 1."
   ]
  },
  {
   "cell_type": "code",
   "execution_count": 3,
   "id": "8c694a7c-2816-4505-80f0-5f533911114b",
   "metadata": {},
   "outputs": [],
   "source": [
    "s={}"
   ]
  },
  {
   "cell_type": "code",
   "execution_count": 6,
   "id": "00d738c8-c17e-4d0f-b218-7a9a59202dda",
   "metadata": {},
   "outputs": [
    {
     "data": {
      "text/plain": [
       "{}"
      ]
     },
     "execution_count": 6,
     "metadata": {},
     "output_type": "execute_result"
    }
   ],
   "source": [
    "s"
   ]
  },
  {
   "cell_type": "code",
   "execution_count": 7,
   "id": "a59c8b38-abce-4ed5-a8b5-0a88701a8609",
   "metadata": {},
   "outputs": [],
   "source": [
    "#In this way, we create a set in python."
   ]
  },
  {
   "cell_type": "code",
   "execution_count": 8,
   "id": "d7e77fac-db15-4f7b-a426-029ceb881c2f",
   "metadata": {},
   "outputs": [],
   "source": [
    "#This is the answer 2."
   ]
  },
  {
   "cell_type": "code",
   "execution_count": 9,
   "id": "65c9339d-22d5-42fb-90d6-73f163e6899b",
   "metadata": {},
   "outputs": [],
   "source": [
    "s={1,2,3}"
   ]
  },
  {
   "cell_type": "code",
   "execution_count": 10,
   "id": "3ad06179-ba3c-46e4-a3aa-9addc629dbee",
   "metadata": {},
   "outputs": [],
   "source": [
    "s.add(4)"
   ]
  },
  {
   "cell_type": "code",
   "execution_count": 11,
   "id": "8fb2d79f-62cb-46df-a5ef-74113c1d650e",
   "metadata": {},
   "outputs": [
    {
     "data": {
      "text/plain": [
       "{1, 2, 3, 4}"
      ]
     },
     "execution_count": 11,
     "metadata": {},
     "output_type": "execute_result"
    }
   ],
   "source": [
    "s"
   ]
  },
  {
   "cell_type": "code",
   "execution_count": 12,
   "id": "c6eb1f59-7d99-4046-a654-e4481388a288",
   "metadata": {},
   "outputs": [],
   "source": [
    "#In this way, we add elements to a set in python."
   ]
  },
  {
   "cell_type": "code",
   "execution_count": 13,
   "id": "13eab041-b1f5-4050-ac95-e8421b8df933",
   "metadata": {},
   "outputs": [],
   "source": [
    "#This is the answer 3."
   ]
  },
  {
   "cell_type": "code",
   "execution_count": 14,
   "id": "fbc456e2-c51a-41b9-b267-093334d71f60",
   "metadata": {},
   "outputs": [],
   "source": [
    "s={1,2,3,4}"
   ]
  },
  {
   "cell_type": "code",
   "execution_count": 15,
   "id": "1e20bb6f-ceae-4666-8f31-5eaca6e8c3c8",
   "metadata": {},
   "outputs": [],
   "source": [
    "s.remove(3)"
   ]
  },
  {
   "cell_type": "code",
   "execution_count": 16,
   "id": "7a7167f2-d029-4f43-a500-c8590362e1c3",
   "metadata": {},
   "outputs": [
    {
     "data": {
      "text/plain": [
       "{1, 2, 4}"
      ]
     },
     "execution_count": 16,
     "metadata": {},
     "output_type": "execute_result"
    }
   ],
   "source": [
    "s"
   ]
  },
  {
   "cell_type": "code",
   "execution_count": 17,
   "id": "dbeb1f03-fa28-4f87-9797-985a4bf730ba",
   "metadata": {},
   "outputs": [],
   "source": [
    "#In this way, we remove elements from a set in python."
   ]
  },
  {
   "cell_type": "code",
   "execution_count": null,
   "id": "9a308db7-6c5c-422a-815e-48df00200dbd",
   "metadata": {},
   "outputs": [],
   "source": [
    "#This is the answer 4."
   ]
  }
 ],
 "metadata": {
  "kernelspec": {
   "display_name": "Python 3 (ipykernel)",
   "language": "python",
   "name": "python3"
  },
  "language_info": {
   "codemirror_mode": {
    "name": "ipython",
    "version": 3
   },
   "file_extension": ".py",
   "mimetype": "text/x-python",
   "name": "python",
   "nbconvert_exporter": "python",
   "pygments_lexer": "ipython3",
   "version": "3.10.8"
  }
 },
 "nbformat": 4,
 "nbformat_minor": 5
}
